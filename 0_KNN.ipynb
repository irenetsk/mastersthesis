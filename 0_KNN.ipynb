{
  "nbformat": 4,
  "nbformat_minor": 0,
  "metadata": {
    "colab": {
      "name": "0-KNN",
      "provenance": [],
      "collapsed_sections": [
        "cheznZfnM36F",
        "p7yD_hw0McPI",
        "GUVj32SQiUjp",
        "UXX1HwY7lCV3",
        "xgtNH8jLilh7",
        "AOB48j0Kjk0Z"
      ],
      "authorship_tag": "ABX9TyNXGM0BuZeXnHhnTwIL2bKZ",
      "include_colab_link": true
    },
    "kernelspec": {
      "name": "python3",
      "display_name": "Python 3"
    },
    "language_info": {
      "name": "python"
    }
  },
  "cells": [
    {
      "cell_type": "markdown",
      "metadata": {
        "id": "view-in-github",
        "colab_type": "text"
      },
      "source": [
        "<a href=\"https://colab.research.google.com/github/irenetsk/mastersthesis/blob/main/0_KNN.ipynb\" target=\"_parent\"><img src=\"https://colab.research.google.com/assets/colab-badge.svg\" alt=\"Open In Colab\"/></a>"
      ]
    },
    {
      "cell_type": "markdown",
      "source": [
        "#K-Neighbours Classification\n",
        "https://scikit-learn.org/stable/modules/generated/sklearn.neighbors.KNeighborsClassifier"
      ],
      "metadata": {
        "id": "-VcFBrsjMRAw"
      }
    },
    {
      "cell_type": "code",
      "source": [
        "import numpy as np\n",
        "from sklearn.neighbors import KNeighborsClassifier\n",
        "from google.colab import drive\n",
        "drive.mount('/content/drive')\n",
        "%cd drive/My Drive/\n",
        "! pip install umap-learn\n",
        "! pip install -U sentence-transformers\n",
        "from sentence_transformers import SentenceTransformer\n",
        "model = SentenceTransformer('paraphrase-MiniLM-L6-v2')"
      ],
      "metadata": {
        "id": "zoz315Ga4_11",
        "colab": {
          "base_uri": "https://localhost:8080/"
        },
        "outputId": "7a4e8763-0fea-485c-8e55-0ad4931b4344"
      },
      "execution_count": 63,
      "outputs": [
        {
          "output_type": "stream",
          "name": "stdout",
          "text": [
            "Drive already mounted at /content/drive; to attempt to forcibly remount, call drive.mount(\"/content/drive\", force_remount=True).\n",
            "[Errno 2] No such file or directory: 'drive/My Drive/'\n",
            "/content/drive/My Drive\n",
            "Requirement already satisfied: umap-learn in /usr/local/lib/python3.7/dist-packages (0.5.2)\n",
            "Requirement already satisfied: numba>=0.49 in /usr/local/lib/python3.7/dist-packages (from umap-learn) (0.51.2)\n",
            "Requirement already satisfied: numpy>=1.17 in /usr/local/lib/python3.7/dist-packages (from umap-learn) (1.21.5)\n",
            "Requirement already satisfied: tqdm in /usr/local/lib/python3.7/dist-packages (from umap-learn) (4.63.0)\n",
            "Requirement already satisfied: pynndescent>=0.5 in /usr/local/lib/python3.7/dist-packages (from umap-learn) (0.5.6)\n",
            "Requirement already satisfied: scikit-learn>=0.22 in /usr/local/lib/python3.7/dist-packages (from umap-learn) (1.0.2)\n",
            "Requirement already satisfied: scipy>=1.0 in /usr/local/lib/python3.7/dist-packages (from umap-learn) (1.4.1)\n",
            "Requirement already satisfied: llvmlite<0.35,>=0.34.0.dev0 in /usr/local/lib/python3.7/dist-packages (from numba>=0.49->umap-learn) (0.34.0)\n",
            "Requirement already satisfied: setuptools in /usr/local/lib/python3.7/dist-packages (from numba>=0.49->umap-learn) (57.4.0)\n",
            "Requirement already satisfied: joblib>=0.11 in /usr/local/lib/python3.7/dist-packages (from pynndescent>=0.5->umap-learn) (1.1.0)\n",
            "Requirement already satisfied: threadpoolctl>=2.0.0 in /usr/local/lib/python3.7/dist-packages (from scikit-learn>=0.22->umap-learn) (3.1.0)\n",
            "Requirement already satisfied: sentence-transformers in /usr/local/lib/python3.7/dist-packages (2.2.0)\n",
            "Requirement already satisfied: torch>=1.6.0 in /usr/local/lib/python3.7/dist-packages (from sentence-transformers) (1.10.0+cu111)\n",
            "Requirement already satisfied: scikit-learn in /usr/local/lib/python3.7/dist-packages (from sentence-transformers) (1.0.2)\n",
            "Requirement already satisfied: huggingface-hub in /usr/local/lib/python3.7/dist-packages (from sentence-transformers) (0.4.0)\n",
            "Requirement already satisfied: transformers<5.0.0,>=4.6.0 in /usr/local/lib/python3.7/dist-packages (from sentence-transformers) (4.17.0)\n",
            "Requirement already satisfied: numpy in /usr/local/lib/python3.7/dist-packages (from sentence-transformers) (1.21.5)\n",
            "Requirement already satisfied: torchvision in /usr/local/lib/python3.7/dist-packages (from sentence-transformers) (0.11.1+cu111)\n",
            "Requirement already satisfied: scipy in /usr/local/lib/python3.7/dist-packages (from sentence-transformers) (1.4.1)\n",
            "Requirement already satisfied: nltk in /usr/local/lib/python3.7/dist-packages (from sentence-transformers) (3.2.5)\n",
            "Requirement already satisfied: sentencepiece in /usr/local/lib/python3.7/dist-packages (from sentence-transformers) (0.1.96)\n",
            "Requirement already satisfied: tqdm in /usr/local/lib/python3.7/dist-packages (from sentence-transformers) (4.63.0)\n",
            "Requirement already satisfied: typing-extensions in /usr/local/lib/python3.7/dist-packages (from torch>=1.6.0->sentence-transformers) (3.10.0.2)\n",
            "Requirement already satisfied: packaging>=20.0 in /usr/local/lib/python3.7/dist-packages (from transformers<5.0.0,>=4.6.0->sentence-transformers) (21.3)\n",
            "Requirement already satisfied: regex!=2019.12.17 in /usr/local/lib/python3.7/dist-packages (from transformers<5.0.0,>=4.6.0->sentence-transformers) (2019.12.20)\n",
            "Requirement already satisfied: sacremoses in /usr/local/lib/python3.7/dist-packages (from transformers<5.0.0,>=4.6.0->sentence-transformers) (0.0.49)\n",
            "Requirement already satisfied: pyyaml>=5.1 in /usr/local/lib/python3.7/dist-packages (from transformers<5.0.0,>=4.6.0->sentence-transformers) (6.0)\n",
            "Requirement already satisfied: filelock in /usr/local/lib/python3.7/dist-packages (from transformers<5.0.0,>=4.6.0->sentence-transformers) (3.6.0)\n",
            "Requirement already satisfied: requests in /usr/local/lib/python3.7/dist-packages (from transformers<5.0.0,>=4.6.0->sentence-transformers) (2.23.0)\n",
            "Requirement already satisfied: tokenizers!=0.11.3,>=0.11.1 in /usr/local/lib/python3.7/dist-packages (from transformers<5.0.0,>=4.6.0->sentence-transformers) (0.12.0)\n",
            "Requirement already satisfied: importlib-metadata in /usr/local/lib/python3.7/dist-packages (from transformers<5.0.0,>=4.6.0->sentence-transformers) (4.11.3)\n",
            "Requirement already satisfied: pyparsing!=3.0.5,>=2.0.2 in /usr/local/lib/python3.7/dist-packages (from packaging>=20.0->transformers<5.0.0,>=4.6.0->sentence-transformers) (3.0.7)\n",
            "Requirement already satisfied: zipp>=0.5 in /usr/local/lib/python3.7/dist-packages (from importlib-metadata->transformers<5.0.0,>=4.6.0->sentence-transformers) (3.7.0)\n",
            "Requirement already satisfied: six in /usr/local/lib/python3.7/dist-packages (from nltk->sentence-transformers) (1.15.0)\n",
            "Requirement already satisfied: idna<3,>=2.5 in /usr/local/lib/python3.7/dist-packages (from requests->transformers<5.0.0,>=4.6.0->sentence-transformers) (2.10)\n",
            "Requirement already satisfied: chardet<4,>=3.0.2 in /usr/local/lib/python3.7/dist-packages (from requests->transformers<5.0.0,>=4.6.0->sentence-transformers) (3.0.4)\n",
            "Requirement already satisfied: urllib3!=1.25.0,!=1.25.1,<1.26,>=1.21.1 in /usr/local/lib/python3.7/dist-packages (from requests->transformers<5.0.0,>=4.6.0->sentence-transformers) (1.24.3)\n",
            "Requirement already satisfied: certifi>=2017.4.17 in /usr/local/lib/python3.7/dist-packages (from requests->transformers<5.0.0,>=4.6.0->sentence-transformers) (2021.10.8)\n",
            "Requirement already satisfied: click in /usr/local/lib/python3.7/dist-packages (from sacremoses->transformers<5.0.0,>=4.6.0->sentence-transformers) (7.1.2)\n",
            "Requirement already satisfied: joblib in /usr/local/lib/python3.7/dist-packages (from sacremoses->transformers<5.0.0,>=4.6.0->sentence-transformers) (1.1.0)\n",
            "Requirement already satisfied: threadpoolctl>=2.0.0 in /usr/local/lib/python3.7/dist-packages (from scikit-learn->sentence-transformers) (3.1.0)\n",
            "Requirement already satisfied: pillow!=8.3.0,>=5.3.0 in /usr/local/lib/python3.7/dist-packages (from torchvision->sentence-transformers) (7.1.2)\n"
          ]
        }
      ]
    },
    {
      "cell_type": "markdown",
      "source": [
        "## KNN with all 4 classes (**Fine-grained** Classification)"
      ],
      "metadata": {
        "id": "fRgWH25wef4H"
      }
    },
    {
      "cell_type": "markdown",
      "source": [
        "### Training Set Creation\n",
        "1 = Enthusiastic / 2 = Neutral / 3 = Sad / 4 = Angry\n"
      ],
      "metadata": {
        "id": "6RcfmRBjMzcW"
      }
    },
    {
      "cell_type": "code",
      "source": [
        "# READSPEAKER SENTENCES\n",
        "angrysents = []\n",
        "with open(\"./thesis/readspeaker_annots/emotion_02_anger.txt\", encoding='utf-8') as f:\n",
        "  f = (f.read()).split(\"\\n\")\n",
        "  for sent in f:\n",
        "    angrysents.append(sent)\n",
        "angrylabels = [4 for i in range(len(angrysents))]\n",
        "\n",
        "enthusents = []\n",
        "with open(\"./thesis/readspeaker_annots/emotion_03_happy.txt\", encoding='utf-8') as f:\n",
        "  f = (f.read()).split(\"\\n\")\n",
        "  for sent in f:\n",
        "    enthusents.append(sent)\n",
        "enthulabels = [1 for i in range(len(enthusents))]\n",
        "\n",
        "sadsents = []\n",
        "with open(\"./thesis/readspeaker_annots/emotion_04_sadness.txt\", encoding='utf-8') as f:\n",
        "  f = (f.read()).split(\"\\n\")\n",
        "  for sent in f:\n",
        "    sadsents.append(sent)\n",
        "sadlabels = [3 for i in range(len(sadsents))]\n",
        "\n",
        "# MY ANNOTATIONS\n",
        "trainsents = []\n",
        "with open(\"./thesis/myannotations/sents.txt\", encoding='utf-8') as f:\n",
        "  f = (f.read()).split(\"\\n\")\n",
        "  for sent in f:\n",
        "    trainsents.append(sent)\n",
        "\n",
        "trainlabels = []\n",
        "with open(\"./thesis/myannotations/labels.txt\", encoding='utf-8') as f:\n",
        "  f = (f.read()).split(\"\\n\")\n",
        "  for label in f:\n",
        "    trainlabels.append(label)\n",
        "\n",
        "with open(\"./thesis/myannotations/moreneutral_sents.txt\", encoding='utf-8') as f:\n",
        "  f = (f.read()).split(\"\\n\")\n",
        "  for sent in f:\n",
        "    trainsents.append(sent)\n",
        "  for i in range(len(f)):\n",
        "    trainlabels.append('2')\n",
        "\n",
        "# rs_sents = angrysents + enthusents + sadsents\n",
        "# rs_labels = angrylabels + enthulabels + sadlabels\n",
        "comb_sents = trainsents + angrysents + enthusents + sadsents\n",
        "comb_labels = trainlabels + angrylabels + enthulabels + sadlabels"
      ],
      "metadata": {
        "id": "k3OtDSvmvnsI"
      },
      "execution_count": 17,
      "outputs": []
    },
    {
      "cell_type": "code",
      "source": [
        "# print(f'enthusiastic: \\t{len(enthusents)} \\nsad: \\t\\t{len(sadsents)}\\nangry: \\t\\t{len(angrysents)}\\nmy annotations: {len(trainsents)}\\ntotal: \\t\\t{sum([len(angrysents), len(enthusents), len(sadsents), len(trainsents)])}')"
      ],
      "metadata": {
        "id": "sARtP_0LOG7t"
      },
      "execution_count": 18,
      "outputs": []
    },
    {
      "cell_type": "code",
      "source": [
        "# trainsentsind = dict()\n",
        "allsentences = list()\n",
        "\n",
        "# with open(\"thesis/corpora/eng-simple_wikipedia_2021_10K-sentences.txt\", encoding='utf-8') as f1:\n",
        "#   f1 = (f1.read()).split(\"\\n\")\n",
        "#   with open(\"thesis/corpora/eng-uk_web-public_2018_10K-sentences.txt\", encoding='utf-8') as f2:\n",
        "#     f2 = (f2.read()).split(\"\\n\")\n",
        "#     for i, line in enumerate(f1+f2):\n",
        "#         sent = (line[(len(str(i+1))):]).strip()             #removes the line number and the tab char\n",
        "#         if sent in trainsents:\n",
        "#           trainsentsind[sent] = i\n",
        "#         allsentences.append(sent)\n",
        "\n",
        "# track = len(allsentences)\n",
        "for i, sent in enumerate(comb_sents):\n",
        "  allsentences.append(sent)\n",
        "  # trainsentsind[sent] = track + i\n",
        "\n",
        "embeddings = model.encode(allsentences)\n",
        "# embeddings = model.encode(allsentences)"
      ],
      "metadata": {
        "id": "kPFS5WRs45QO"
      },
      "execution_count": 64,
      "outputs": []
    },
    {
      "cell_type": "code",
      "source": [
        "# len(allsentences)"
      ],
      "metadata": {
        "id": "7dx3SdtavcMS"
      },
      "execution_count": null,
      "outputs": []
    },
    {
      "cell_type": "code",
      "source": [
        "X_train = np.array([embeddings[i] for i, sent in enumerate(comb_sents)])\n",
        "X_train_resh = np.array([(embeddings[i]).reshape(1, -1) for i, sent in enumerate(comb_sents)])\n",
        "y_train = [int(element) for element in comb_labels]"
      ],
      "metadata": {
        "id": "Xs5zSXloz3T5"
      },
      "execution_count": 117,
      "outputs": []
    },
    {
      "cell_type": "code",
      "source": [
        "# from collections import Counter\n",
        "# a = dict(Counter(alltrainlabels))\n",
        "# a"
      ],
      "metadata": {
        "id": "S10KxVTuYI_8"
      },
      "execution_count": null,
      "outputs": []
    },
    {
      "cell_type": "markdown",
      "source": [
        "### Dataset Split"
      ],
      "metadata": {
        "id": "cheznZfnM36F"
      }
    },
    {
      "cell_type": "code",
      "source": [
        "from sklearn.model_selection import train_test_split\n",
        "X_train, X_test, y_train, y_test = train_test_split(X_train, y_train, random_state=42, train_size=0.65)\n",
        "# X_train_resh, X_test, y_train, y_test = train_test_split(X_train_resh, y_train, random_state=42, train_size=0.65)"
      ],
      "metadata": {
        "id": "DDMeMPYPSlng"
      },
      "execution_count": 134,
      "outputs": []
    },
    {
      "cell_type": "markdown",
      "source": [
        "### Grid search & Run"
      ],
      "metadata": {
        "id": "IFA3xVkaJjqL"
      }
    },
    {
      "cell_type": "code",
      "source": [
        "# from sklearn.metrics.pairwise import cosine_similarity\n",
        "from scipy.spatial.distance import cosine"
      ],
      "metadata": {
        "id": "EMsK1Y8qnw2H"
      },
      "execution_count": 135,
      "outputs": []
    },
    {
      "cell_type": "code",
      "source": [
        "# from sklearn.model_selection import GridSearchCV\n",
        "# parameters = {'weights': ('uniform', 'distance'), 'algorithm':('auto', 'ball_tree', 'kd_tree', 'brute')}\n",
        "# neigh = KNeighborsClassifier(metric=cosine)\n",
        "# clf = GridSearchCV(neigh, parameters)\n",
        "# clf.fit(X_train, y_train)\n",
        "# sorted(clf.cv_results_.keys())\n",
        "\n",
        "# print(\"Best parameters set found on development set:\")\n",
        "# print(clf.best_params_)\n",
        "\n",
        "# print(\"Grid scores on development set:\")\n",
        "# means = clf.cv_results_[\"mean_test_score\"]\n",
        "# stds = clf.cv_results_[\"std_test_score\"]\n",
        "# for mean, std, params in zip(means, stds, clf.cv_results_[\"params\"]):\n",
        "#     print(\"%0.3f (+/-%0.03f) for %r\" % (mean, std * 2, params))\n",
        "\n",
        "# print(\"Detailed classification report:\")\n",
        "# y_true, y_pred = y_test, clf.predict(X_test)\n",
        "# print(classification_report(y_true, y_pred))"
      ],
      "metadata": {
        "id": "8TahLczTh85r"
      },
      "execution_count": null,
      "outputs": []
    },
    {
      "cell_type": "code",
      "source": [
        "# import numpy as np\n",
        "# import random\n",
        "# best_hyperparameters = None\n",
        "# grid = {'weights': ['uniform', 'distance'],\n",
        "#         'algorithm':['auto', 'ball_tree', 'kd_tree', 'brute']}\n",
        "# print(\"Weights:\\tAlgorithm:\\tTraining set accuracy:\")\n",
        "# for i in range(20):\n",
        "#   wt = grid['weights'][random.randint(0,1)]\n",
        "#   al = grid['algorithm'][random.randint(0,3)]\n",
        "#   model = KNeighborsClassifier(weights = wt, algorithm = al)\n",
        "#   model.fit(X_train, y_train)\n",
        "#   training_accuracy = model.score(X_test, y_test)\n",
        "#   if best_hyperparameters is None or best_hyperparameters[2] < training_accuracy:\n",
        "#     best_hyperparameters = (wt, al, training_accuracy)\n",
        "#   print(f\"{wt}\\t\\t{al}\\t\\t{training_accuracy}\")\n",
        "# best_weights = best_hyperparameters[0]\n",
        "# best_algorithm = best_hyperparameters[1]\n",
        "# print(f\"Best parameters:{best_weights}\\t{best_algorithm}\")"
      ],
      "metadata": {
        "id": "9_NyPIwnS6C3"
      },
      "execution_count": null,
      "outputs": []
    },
    {
      "cell_type": "markdown",
      "source": [
        "**sklearn.metrics.pairwise.cosine_similarity** is designed to compare pairwise distance/similarity of the samples in the given input 2-D arrays\n",
        "\n",
        "**scipy.spatial.distance.cosine** is designed to compute cosine distance of two 1-D arrays."
      ],
      "metadata": {
        "id": "CZjC6HVg8aNH"
      }
    },
    {
      "cell_type": "code",
      "source": [
        "from sklearn.neighbors import KNeighborsClassifier\n",
        "neigh = KNeighborsClassifier(weights='distance', algorithm='auto', metric = cosine)\n",
        "neigh.fit(X_train, y_train)\n",
        "y_pred = neigh.predict(X_test)\n",
        "print(neigh.score(X_test, y_test))"
      ],
      "metadata": {
        "id": "Ewqevz2y6u70",
        "colab": {
          "base_uri": "https://localhost:8080/"
        },
        "outputId": "2579aea6-29b9-4465-e1ba-5e4d59a89d4a"
      },
      "execution_count": 136,
      "outputs": [
        {
          "output_type": "stream",
          "name": "stdout",
          "text": [
            "0.6627118644067796\n"
          ]
        }
      ]
    },
    {
      "cell_type": "markdown",
      "source": [
        "Score: 0.6627118644067796\n"
      ],
      "metadata": {
        "id": "-3MeZQSjDPFc"
      }
    },
    {
      "cell_type": "markdown",
      "source": [
        "### ADD UMAP HERE FOR VISUALIZATION"
      ],
      "metadata": {
        "id": "IdjSjUmmf2tT"
      }
    },
    {
      "cell_type": "code",
      "source": [
        "! pip install --upgrade tbb\n",
        "import umap\n",
        "reducer = umap.UMAP(n_components=3)\n",
        "embedding = reducer.fit_transform(X_test)"
      ],
      "metadata": {
        "id": "KpUl29dEFDMr"
      },
      "execution_count": 142,
      "outputs": []
    },
    {
      "cell_type": "markdown",
      "source": [
        "### Plot"
      ],
      "metadata": {
        "id": "p7yD_hw0McPI"
      }
    },
    {
      "cell_type": "code",
      "source": [
        "%matplotlib inline\n",
        "import numpy as np\n",
        "import matplotlib.pyplot as plt\n",
        "from mpl_toolkits import mplot3d\n",
        "\n",
        "u_labels = np.unique(y_pred)\n",
        "fig = plt.figure(figsize=(10,9))\n",
        "ax = plt.axes(projection='3d')\n",
        "\n",
        "for i in u_labels:\n",
        "    plt.scatter(embedding[y_pred == i , 0], embedding[y_pred == i , 1], embedding[y_pred == i , 2],  label = i)\n",
        "    # plt.scatter(X_test[y_pred == i , 0], X_test[y_pred == i , 1], X_test[y_pred == i , 2],  label = i)\n",
        "plt.legend()\n",
        "plt.show()"
      ],
      "metadata": {
        "id": "JV2rp5GtAEmk",
        "colab": {
          "base_uri": "https://localhost:8080/",
          "height": 520
        },
        "outputId": "6400724f-5b29-4746-fbb9-4585db5bef27"
      },
      "execution_count": 143,
      "outputs": [
        {
          "output_type": "display_data",
          "data": {
            "text/plain": [
              "<Figure size 720x648 with 1 Axes>"
            ],
            "image/png": "[encoded data removed]"
          },
          "metadata": {
            "needs_background": "light"
          }
        }
      ]
    },
    {
      "cell_type": "markdown",
      "source": [
        "#Other"
      ],
      "metadata": {
        "id": "o5RkSpAfFBGe"
      }
    },
    {
      "cell_type": "markdown",
      "source": [
        "## Training/testing with only 3 classes (RS data)\n",
        "Score: **0.634011090573013**"
      ],
      "metadata": {
        "id": "GUVj32SQiUjp"
      }
    },
    {
      "cell_type": "code",
      "source": [
        "# model = SentenceTransformer('paraphrase-MiniLM-L6-v2')\n",
        "angrysents = []\n",
        "with open(\"./thesis/readspeaker_annots/emotion_02_anger.txt\", encoding='utf-8') as f:\n",
        "  f = (f.read()).split(\"\\n\")\n",
        "  for sent in f:    #[:-478]:\n",
        "    angrysents.append(sent)\n",
        "angrylabels = [4 for i in range(len(angrysents))]\n",
        "\n",
        "enthusents = []\n",
        "with open(\"./thesis/readspeaker_annots/emotion_03_happy.txt\", encoding='utf-8') as f:\n",
        "  f = (f.read()).split(\"\\n\")\n",
        "  for sent in f[:-50]:\n",
        "    enthusents.append(sent)\n",
        "enthulabels = [1 for i in range(len(enthusents))]\n",
        "\n",
        "sadsents = []\n",
        "with open(\"./thesis/readspeaker_annots/emotion_04_sadness.txt\", encoding='utf-8') as f:\n",
        "  f = (f.read()).split(\"\\n\")\n",
        "  for sent in f[:-38]:\n",
        "    sadsents.append(sent)\n",
        "sadlabels = [3 for i in range(len(sadsents))]\n",
        "\n",
        "X = angrysents + enthusents + sadsents\n",
        "y = angrylabels + enthulabels + sadlabels\n",
        "\n",
        "embeddings = model.encode(X)\n",
        "reducer = umap.UMAP(n_components=3)\n",
        "embedding = reducer.fit_transform(embeddings)\n",
        "\n",
        "X_train = np.array([embedding[i] for i, sent in enumerate(X)])\n",
        "y_train = y"
      ],
      "metadata": {
        "id": "AvoCFVmJdDCI"
      },
      "execution_count": null,
      "outputs": []
    },
    {
      "cell_type": "code",
      "source": [
        "# vec2sent = dict()\n",
        "# for i, sentence in enumerate(X):\n",
        "#   vec2sent[str(embedding[i])] = sentence"
      ],
      "metadata": {
        "id": "MsniKkRvfV82"
      },
      "execution_count": null,
      "outputs": []
    },
    {
      "cell_type": "code",
      "source": [
        "X_train, X_test, y_train, y_test = train_test_split(X_train, y_train, random_state=42, train_size=0.7)\n",
        "neigh = KNeighborsClassifier(weights='distance', algorithm='auto')      # weights='distance', algorithm='auto'\n",
        "neigh.fit(X_train, y_train)\n",
        "y_pred = neigh.predict(X_test)\n",
        "print(neigh.score(X_test, y_test))"
      ],
      "metadata": {
        "id": "mO8Cs2Zwd_cR"
      },
      "execution_count": null,
      "outputs": []
    },
    {
      "cell_type": "markdown",
      "source": [
        "## Training/testing with 3 classes positive-neutral-negative (RS data+neutralsents)\n",
        "Score: **0.8062730627306273**"
      ],
      "metadata": {
        "id": "UXX1HwY7lCV3"
      }
    },
    {
      "cell_type": "code",
      "source": [
        "# model = SentenceTransformer('paraphrase-MiniLM-L6-v2')\n",
        "\n",
        "enthusents = []\n",
        "with open(\"./thesis/readspeaker_annots/emotion_03_happy.txt\", encoding='utf-8') as f:\n",
        "  f = (f.read()).split(\"\\n\")\n",
        "  for sent in f[:-50]:\n",
        "    enthusents.append(sent)\n",
        "enthulabels = [0 for i in range(len(enthusents))]\n",
        "\n",
        "sadsents = []\n",
        "with open(\"./thesis/readspeaker_annots/emotion_04_sadness.txt\", encoding='utf-8') as f:\n",
        "  f = (f.read()).split(\"\\n\")\n",
        "  for sent in f[:-38]:\n",
        "    sadsents.append(sent)\n",
        "sadlabels = [2 for i in range(len(sadsents))]\n",
        "\n",
        "neutralsents = []\n",
        "with open(\"./thesis/myannotations/moreneutral_sents.txt\", encoding='utf-8') as f:\n",
        "  f = (f.read()).split(\"\\n\")\n",
        "  for sent in f:\n",
        "    neutralsents.append(sent)\n",
        "neutrallabels = [1 for i in range(len(neutralsents))]\n",
        "\n",
        "X = enthusents + neutralsents + sadsents\n",
        "y = enthulabels + neutrallabels + sadlabels\n",
        "\n",
        "embeddings = model.encode(X)\n",
        "reducer = umap.UMAP(n_components=3)\n",
        "embedding = reducer.fit_transform(embeddings)\n",
        "\n",
        "X_train = np.array([embedding[i] for i, sent in enumerate(X)])\n",
        "y_train = y"
      ],
      "metadata": {
        "id": "praSZwG0lEsc"
      },
      "execution_count": null,
      "outputs": []
    },
    {
      "cell_type": "code",
      "source": [
        "X_train, X_test, y_train, y_test = train_test_split(X_train, y_train, random_state=42, train_size=0.7)\n",
        "neigh = KNeighborsClassifier(weights='distance', algorithm='auto')      # weights='distance', algorithm='auto'\n",
        "neigh.fit(X_train, y_train)\n",
        "y_pred = neigh.predict(X_test)\n",
        "print(neigh.score(X_test, y_test))"
      ],
      "metadata": {
        "id": "eav2acIwlcE3"
      },
      "execution_count": null,
      "outputs": []
    },
    {
      "cell_type": "markdown",
      "source": [
        "## Train/test with 2 classes (**binary** classification)\n",
        "Score: **0.847457627118644**"
      ],
      "metadata": {
        "id": "xgtNH8jLilh7"
      }
    },
    {
      "cell_type": "code",
      "source": [
        "enthusents = []\n",
        "with open(\"./thesis/readspeaker_annots/emotion_03_happy.txt\", encoding='utf-8') as f:\n",
        "  f = (f.read()).split(\"\\n\")\n",
        "  for sent in f[:-50]:\n",
        "    enthusents.append(sent)\n",
        "enthulabels = [1 for i in range(len(enthusents))]\n",
        "\n",
        "sadsents = []\n",
        "with open(\"./thesis/readspeaker_annots/emotion_04_sadness.txt\", encoding='utf-8') as f:\n",
        "  f = (f.read()).split(\"\\n\")\n",
        "  for sent in f[:-38]:\n",
        "    sadsents.append(sent)\n",
        "sadlabels = [3 for i in range(len(sadsents))]\n",
        "\n",
        "X = enthusents + sadsents\n",
        "y = enthulabels + sadlabels\n",
        "\n",
        "embeddings = model.encode(X)\n",
        "reducer = umap.UMAP(n_components=3)\n",
        "embedding = reducer.fit_transform(embeddings)\n",
        "\n",
        "X_train = np.array([embedding[i] for i, sent in enumerate(X)])\n",
        "y_train = y"
      ],
      "metadata": {
        "id": "-Bv5Qw22insO"
      },
      "execution_count": null,
      "outputs": []
    },
    {
      "cell_type": "code",
      "source": [
        "X_train, X_test, y_train, y_test = train_test_split(X_train, y_train, random_state=42, train_size=0.7)\n",
        "neigh = KNeighborsClassifier(weights='distance', algorithm='auto')      # weights='distance', algorithm='auto'\n",
        "neigh.fit(X_train, y_train)\n",
        "y_pred = neigh.predict(X_test)\n",
        "print(neigh.score(X_test, y_test))"
      ],
      "metadata": {
        "id": "zAG1BTOvinsO"
      },
      "execution_count": null,
      "outputs": []
    },
    {
      "cell_type": "markdown",
      "source": [
        "## Train/test with 2 classes (comb happy+neut & ang+sad)\n",
        "Score: **0.8047091412742382**"
      ],
      "metadata": {
        "id": "AOB48j0Kjk0Z"
      }
    },
    {
      "cell_type": "code",
      "source": [
        "# model = SentenceTransformer('paraphrase-MiniLM-L6-v2')\n",
        "angrysents = []\n",
        "with open(\"./thesis/readspeaker_annots/emotion_02_anger.txt\", encoding='utf-8') as f:\n",
        "  f = (f.read()).split(\"\\n\")\n",
        "  for sent in f:    #[:-478]:\n",
        "    angrysents.append(sent)\n",
        "angrylabels = [2 for i in range(len(angrysents))]\n",
        "\n",
        "enthusents = []\n",
        "with open(\"./thesis/readspeaker_annots/emotion_03_happy.txt\", encoding='utf-8') as f:\n",
        "  f = (f.read()).split(\"\\n\")\n",
        "  for sent in f[:-50]:\n",
        "    enthusents.append(sent)\n",
        "enthulabels = [1 for i in range(len(enthusents))]\n",
        "\n",
        "sadsents = []\n",
        "with open(\"./thesis/readspeaker_annots/emotion_04_sadness.txt\", encoding='utf-8') as f:\n",
        "  f = (f.read()).split(\"\\n\")\n",
        "  for sent in f[:-38]:\n",
        "    sadsents.append(sent)\n",
        "sadlabels = [2 for i in range(len(sadsents))]\n",
        "\n",
        "neutralsents = []\n",
        "with open(\"./thesis/myannotations/moreneutral_sents.txt\", encoding='utf-8') as f:\n",
        "  f = (f.read()).split(\"\\n\")\n",
        "  for sent in f:\n",
        "    neutralsents.append(sent)\n",
        "neutrallabels = [1 for i in range(len(neutralsents))]\n",
        "\n",
        "\n",
        "\n",
        "X = enthusents + neutralsents + angrysents + sadsents\n",
        "y = enthulabels + neutrallabels + sadlabels + angrylabels\n",
        "\n",
        "embeddings = model.encode(X)\n",
        "reducer = umap.UMAP(n_components=3)\n",
        "embedding = reducer.fit_transform(embeddings)\n",
        "\n",
        "X_train = np.array([embedding[i] for i, sent in enumerate(X)])\n",
        "y_train = y"
      ],
      "metadata": {
        "id": "bW_0woUrjk0k"
      },
      "execution_count": null,
      "outputs": []
    },
    {
      "cell_type": "code",
      "source": [
        "X_train, X_test, y_train, y_test = train_test_split(X_train, y_train, random_state=42, train_size=0.7)\n",
        "neigh = KNeighborsClassifier(weights='distance', algorithm='auto')      # weights='distance', algorithm='auto'\n",
        "neigh.fit(X_train, y_train)\n",
        "y_pred = neigh.predict(X_test)\n",
        "print(neigh.score(X_test, y_test))"
      ],
      "metadata": {
        "id": "-7aCe5YKjk0k"
      },
      "execution_count": null,
      "outputs": []
    }
  ]
}